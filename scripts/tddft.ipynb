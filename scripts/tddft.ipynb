{
 "cells": [
  {
   "cell_type": "markdown",
   "metadata": {},
   "source": [
    "# Benzene TDDFT Calculation \n",
    "\n",
    "The goal is to reproduce the TDDFT calculation of benzene found in Wang et al., “Light-Matter Interaction of a Molecule in a Dissipative Cavity from First Principles.”\n",
    "\n",
    "Full bibliography:\n",
    "\n",
    "`Wang, Derek S., Tomáš Neuman, Johannes Flick, and Prineha Narang. “Light-Matter Interaction of a Molecule in a Dissipative Cavity from First Principles.” Journal of Chemical Physics 154, no. 10 (2021). https://doi.org/10.1063/5.0036283.\n",
    "`"
   ]
  },
  {
   "cell_type": "markdown",
   "metadata": {},
   "source": []
  },
  {
   "cell_type": "markdown",
   "metadata": {},
   "source": [
    "## Initial Geometry\n",
    "\n",
    "Define the initial geometry for benzene. This geometry should be close but not perfect, as we will optimize later. \n",
    "\n",
    "![Benzene Structure](images/Benzene_geometrie.svg \"Benzene geometries\")\n",
    "\n",
    "As we can see from the above image, benzene has the following geometries:\n",
    "\n",
    "- C-C bond length of $139 pm= 1.39 \\text{Angstrom}$\n",
    "- C-H bond length of $109 pm= 1.09 \\text{Angstrom}$\n",
    "- 6 fold rotational symmetry\n",
    "\n",
    "We can represent benzene by placing the carbons on a circle at 60 degree intervals. The constraint is that the distance between agacent carbons is 1.39 Angstroms. \n",
    "\n",
    "Solving for the radius $r$ of the circle:\n",
    "\n",
    "$$|\\vec{c}_0-\\vec{c}_1|^2 = 1.39 \\text{Angstrom}$$\n",
    "\n",
    "where \n",
    "\n",
    "- $\\vec{c}_0 = r(1,0,0)$\n",
    "- $\\vec{c}_1 = r(\\cos (2\\pi/6),\\sin (2\\pi/6),0)$\n",
    "\n",
    "We can expand the distance constraint and apply the half angle formula ($1-\\cos(\\theta)=2\\sin^2(\\theta/2)$):\n",
    "\n",
    "$$|r(1-\\cos (2\\pi/6),-\\sin (2\\pi/6),0)|^2 = 1.39 \\text{Angstrom}$$\n",
    "$$r^2|(2\\sin^2(2\\pi/12)),-\\sin (2\\pi/6),0)|^2 = 1.39 \\text{Angstrom}$$\n",
    "$$r^2 = \\frac{1.39 \\text{Angstrom}}{|(2\\sin^2(\\pi/6)),-\\sin (\\pi/3),0)|^2}$$\n",
    "$$r^2 = \\frac{1.39 \\text{Angstrom}}{4\\sin^4(\\pi/6))+\\sin^2 (\\pi/3)}$$\n",
    "Image Reference:\n",
    "\n",
    "`File:Benzene geometrie.svg. (2021, November 19). Wikimedia Commons, the free media repository. Retrieved 08:56, September 15, 2022 from https://commons.wikimedia.org/w/index.php?title=File:Benzene_geometrie.svg&oldid=608227843.\n",
    "\n",
    "`"
   ]
  },
  {
   "cell_type": "code",
   "execution_count": 2,
   "metadata": {},
   "outputs": [],
   "source": [
    "import numpy as np\n",
    "from scipy.spatial.transform import Rotation as R\n",
    "\n",
    "benzene_cc_angstrom = 1.39\n",
    "benzene_ch_angstrom = 1.09\n",
    "\n",
    "r_carbon = benzene_cc_angstrom/(4.0*np.sin(np.pi/6)**4 + np.sin(np.pi/3)**2)\n",
    "r_hydrogen = r_carbon + benzene_ch_angstrom\n",
    "\n",
    "carbon_0 = np.array([r_carbon,0.0,0.0])\n",
    "hydrogen_0 = np.array([r_hydrogen,0.0,0.0])\n",
    "\n",
    "sym_num=6 #6 fold rotational symmetry\n",
    "rotations = [R.from_euler('z',n* 2*np.pi/sym_num) for n in range(sym_num)]\n",
    "\n",
    "carbons = [r.apply(carbon_0) for r in rotations]\n",
    "hydrogrens= [r.apply(hydrogen_0) for r in rotations]"
   ]
  },
  {
   "cell_type": "code",
   "execution_count": 11,
   "metadata": {},
   "outputs": [
    {
     "name": "stdout",
     "output_type": "stream",
     "text": [
      "C 1.390000 0.000000 0.000000\n",
      "C 0.695000 1.203775 0.000000\n",
      "C -0.695000 1.203775 0.000000\n",
      "C -1.390000 0.000000 0.000000\n",
      "C -0.695000 -1.203775 0.000000\n",
      "C 0.695000 -1.203775 0.000000\n",
      "H 2.480000 0.000000 0.000000\n",
      "H 1.240000 2.147743 0.000000\n",
      "H -1.240000 2.147743 0.000000\n",
      "H -2.480000 0.000000 0.000000\n",
      "H -1.240000 -2.147743 0.000000\n",
      "H 1.240000 -2.147743 0.000000\n"
     ]
    }
   ],
   "source": [
    "from functools import reduce\n",
    "\n",
    "\n",
    "carbon_strs=['C {x:f} {y:f} {z:f}'.format(x=vec[0],y=vec[1],z=vec[2]) for vec in carbons]\n",
    "hydrogen_strs=['H {x:f} {y:f} {z:f}'.format(x=vec[0],y=vec[1],z=vec[2]) for vec in hydrogrens]\n",
    "benzene_geometry = carbon_strs+ hydrogen_strs\n",
    "benzene_geometry_str = reduce(lambda x,y:x+'\\n'+y, benzene_geometry)"
   ]
  },
  {
   "cell_type": "code",
   "execution_count": null,
   "metadata": {},
   "outputs": [],
   "source": []
  }
 ],
 "metadata": {
  "kernelspec": {
   "display_name": "Python 3.10.6 64-bit ('wang-2021')",
   "language": "python",
   "name": "python3"
  },
  "language_info": {
   "codemirror_mode": {
    "name": "ipython",
    "version": 3
   },
   "file_extension": ".py",
   "mimetype": "text/x-python",
   "name": "python",
   "nbconvert_exporter": "python",
   "pygments_lexer": "ipython3",
   "version": "3.10.6"
  },
  "orig_nbformat": 4,
  "vscode": {
   "interpreter": {
    "hash": "d49efebacf84d2cd86991c5060ed57cdd89a20241cafec59e6008ec94d925ef4"
   }
  }
 },
 "nbformat": 4,
 "nbformat_minor": 2
}
