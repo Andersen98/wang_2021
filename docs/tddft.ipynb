{
 "cells": [
  {
   "cell_type": "markdown",
   "metadata": {},
   "source": [
    "# Benzene TDDFT Calculation \n",
    "\n",
    "The goal is to reproduce the TDDFT calculation of benzene found in Wang et al., “Light-Matter Interaction of a Molecule in a Dissipative Cavity from First Principles.”\n",
    "\n",
    "Full bibliography:\n",
    "\n",
    "`Wang, Derek S., Tomáš Neuman, Johannes Flick, and Prineha Narang. “Light-Matter Interaction of a Molecule in a Dissipative Cavity from First Principles.” Journal of Chemical Physics 154, no. 10 (2021). https://doi.org/10.1063/5.0036283.\n",
    "`"
   ]
  },
  {
   "cell_type": "markdown",
   "metadata": {},
   "source": []
  },
  {
   "cell_type": "markdown",
   "metadata": {},
   "source": [
    "## Initial Geometry\n",
    "\n",
    "Define the initial geometry for benzene. This geometry should be close but not perfect, as we will optimize later. \n",
    "\n",
    "![Benzene Structure](images/Benzene_geometrie.svg \"Benzene geometries\")\n",
    "\n",
    "As we can see from the above image, benzene has the following geometries:\n",
    "\n",
    "- C-C bond length of $139 pm= 1.39 \\text{Angstrom}$\n",
    "- C-H bond length of $109 pm= 1.09 \\text{Angstrom}$\n",
    "- 6 fold rotational symmetry\n",
    "\n",
    "Image Citation:\n",
    "`File:Benzene geometrie.svg. (2021, November 19). Wikimedia Commons, the free media repository. Retrieved 08:56, September 15, 2022 from https://commons.wikimedia.org/w/index.php?title=File:Benzene_geometrie.svg&oldid=608227843.\n",
    "\n",
    "`"
   ]
  },
  {
   "cell_type": "markdown",
   "metadata": {},
   "source": [
    "## Benzene Dissected Into 6 Triangles\n",
    "\n",
    "![Hexegon as 6 triangles](images/Vertex_type_3-3-3-3-3-3.svg \"Hexegon dissected into 6 triangles\")\n",
    "\n",
    "Benzene's carbons live on the vertices of a hexegon. We can use this to our advantage. We dissect the hexegon into 6 equilateral triangles as shown above.\n",
    "\n",
    "We can now see that the 6 carbons are on a circle of radius $1.39 \\text{ Angstrom}, with angular separation $2\\pi/6 \\text{ radians}$.\n",
    "\n",
    "Image Sourece:\n",
    "\n",
    "`File:Vertex type 3-3-3-3-3-3.svg. (2020, November 11). Wikimedia Commons, the free media repository. Retrieved 21:16, September 15, 2022 from https://commons.wikimedia.org/w/index.php?title=File:Vertex_type_3-3-3-3-3-3.svg&oldid=512059250.`"
   ]
  },
  {
   "cell_type": "code",
   "execution_count": 14,
   "metadata": {},
   "outputs": [],
   "source": [
    "import numpy as np\n",
    "from scipy.spatial.transform import Rotation as R\n",
    "from functools import reduce\n",
    "\n",
    "\n",
    "cc_angstrom = 1.39\n",
    "ch_angstrom = 1.09\n",
    "\n",
    "r_carbon = cc_angstrom\n",
    "r_hydrogen = r_carbon + ch_angstrom\n",
    "\n",
    "num_rots=6 #6 fold rotational symmetry\n",
    "delta_theta = 2*np.pi/6\n",
    "rotations = [R.from_euler('z',n*delta_theta) for n in range(num_rots)]\n",
    "carbons = [r.apply(r_carbon*np.array([1.0,0.0,0.0])) for r in rotations]\n",
    "hydrogrens= [r.apply(r_hydrogen*np.array([1.0,0.0,0.0])) for r in rotations]\n",
    "\n",
    "carbon_strs=['C {x:.2f} {y:.2f} {z:.2f}'.format(x=vec[0],y=vec[1],z=vec[2]) for vec in carbons]\n",
    "hydrogen_strs=['H {x:.2f} {y:.2f} {z:.2f}'.format(x=vec[0],y=vec[1],z=vec[2]) for vec in hydrogrens]\n",
    "benzene_geometry = carbon_strs+ hydrogen_strs\n",
    "benzene_geometry_str = reduce(lambda x,y:x+'\\n'+y, benzene_geometry)"
   ]
  },
  {
   "cell_type": "code",
   "execution_count": 15,
   "metadata": {},
   "outputs": [
    {
     "name": "stdout",
     "output_type": "stream",
     "text": [
      "C 1.39 0.00 0.00\n",
      "C 0.70 1.20 0.00\n",
      "C -0.69 1.20 0.00\n",
      "C -1.39 0.00 0.00\n",
      "C -0.70 -1.20 0.00\n",
      "C 0.69 -1.20 0.00\n",
      "H 2.48 0.00 0.00\n",
      "H 1.24 2.15 0.00\n",
      "H -1.24 2.15 0.00\n",
      "H -2.48 0.00 0.00\n",
      "H -1.24 -2.15 0.00\n",
      "H 1.24 -2.15 0.00\n"
     ]
    }
   ],
   "source": [
    "print(benzene_geometry_str)"
   ]
  },
  {
   "cell_type": "code",
   "execution_count": null,
   "metadata": {},
   "outputs": [],
   "source": []
  }
 ],
 "metadata": {
  "kernelspec": {
   "display_name": "Python 3.10.6 64-bit ('wang-2021')",
   "language": "python",
   "name": "python3"
  },
  "language_info": {
   "codemirror_mode": {
    "name": "ipython",
    "version": 3
   },
   "file_extension": ".py",
   "mimetype": "text/x-python",
   "name": "python",
   "nbconvert_exporter": "python",
   "pygments_lexer": "ipython3",
   "version": "3.10.6"
  },
  "orig_nbformat": 4,
  "vscode": {
   "interpreter": {
    "hash": "d49efebacf84d2cd86991c5060ed57cdd89a20241cafec59e6008ec94d925ef4"
   }
  }
 },
 "nbformat": 4,
 "nbformat_minor": 2
}
